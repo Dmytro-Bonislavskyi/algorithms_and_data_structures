{
 "cells": [
  {
   "cell_type": "markdown",
   "metadata": {},
   "source": [
    "# Coding Problems\n",
    "\n",
    "## Objective\n",
    "\n",
    "This assignment aims to demonstrate how to study a data structures or algorithms question in depth to prepare for an industry coding interview. Leetcode is a popular coding practice site that many use to practice for technical interviews. Like behavioral interviews, it's important to practice and keep your skills sharp.\n",
    "\n",
    "## Group Size\n",
    "\n",
    "Please complete this individually.\n",
    "\n",
    "## Part 1:\n",
    "\n",
    "_*You will be assigned one of three problems based of your first name. Execute the code below, and that will tell you your assigned problem. Include the output as part of your submission (do not clear the output). The problems are based-off problems from Leetcode.*_\n"
   ]
  },
  {
   "cell_type": "code",
   "execution_count": 10,
   "metadata": {},
   "outputs": [
    {
     "name": "stdout",
     "output_type": "stream",
     "text": [
      "2\n"
     ]
    }
   ],
   "source": [
    "print((hash('Dmytro') % 3) + 1)"
   ]
  },
  {
   "cell_type": "markdown",
   "metadata": {},
   "source": [
    "<details>\n",
    "  <summary>Question 1</summary>\n",
    "\n",
    "  # Question One: Check Duplicates in Tree\n",
    "\n",
    "  Given the `root` of a binary tree, check whether it is contains a duplicate value. If a duplicate exists, return the duplicate value. If there are multiple duplicates, return the one with the closest distance to the root. If no duplicate exists, return -1.\n",
    "\n",
    "  ## Examples\n",
    "\n",
    "  ### Example 1\n",
    "\n",
    "  ![](./images/q1_ex1.png)\n",
    "\n",
    "  Input: `root = [1, 2, 2, 3, 5, 6, 7]` *What traversal method is this?*\n",
    "\n",
    "  Output: 2\n",
    "\n",
    "  ### Example 2\n",
    "\n",
    "  ![](./images/q1_ex2.png)\n",
    "\n",
    "  Input: `root = [1, 10, 2, 3, 10, 12, 12]`\n",
    "\n",
    "  Output: 10\n",
    "\n",
    "  ### Example 3\n",
    "\n",
    "  ![](./images/q1_ex3.png)\n",
    "\n",
    "  Input: `root = [10, 9, 8, 7]`\n",
    "\n",
    "  Output: -1\n",
    "\n",
    "</details>\n",
    "\n",
    "#### Starter Code for Question 1"
   ]
  },
  {
   "cell_type": "code",
   "execution_count": null,
   "metadata": {},
   "outputs": [],
   "source": [
    "# Definition for a binary tree node.\n",
    "# class TreeNode(object):\n",
    "#     def __init__(self, val = 0, left = None, right = None):\n",
    "#         self.val = val\n",
    "#         self.left = left\n",
    "#         self.right = right\n",
    "def is_symmetric(root: TreeNode) -> int:\n",
    "  # TODO"
   ]
  },
  {
   "cell_type": "markdown",
   "metadata": {},
   "source": [
    "<details>\n",
    "  <summary>Question 2</summary>\n",
    "\n",
    "  # Question Two: Path to Leaves\n",
    "\n",
    "  Given the `root` of a binary tree, return all root to leaf paths in any order.\n",
    "\n",
    "  ## Examples\n",
    "\n",
    "  ### Example 1\n",
    "\n",
    "  ![](./images/q1_ex1.png)\n",
    "\n",
    "  Input: `root = [1, 2, 2, 3, 5, 6, 7]` *What traversal method is this?*\n",
    "\n",
    "  Output: [[1, 2, 3], [1, 2, 5], [1, 2, 6], [1, 2, 7]]\n",
    "\n",
    "  ### Example 2\n",
    "\n",
    "  ![](./images/q1_ex3.png)\n",
    "\n",
    "  Input: `root = [10, 9, 8, 7]`\n",
    "\n",
    "  Output: [[10, 7], [10, 9, 8]]\n",
    "\n",
    "</details>\n",
    "\n",
    "#### Starter Code for Question 2"
   ]
  },
  {
   "cell_type": "code",
   "execution_count": 34,
   "metadata": {},
   "outputs": [],
   "source": [
    "#  Given the `root` of a binary tree, return all root to leaf paths in any order.\n",
    "# Definition for a binary tree node.\n",
    "class TreeNode(object):\n",
    "    def __init__(self, val = 0, left = None, right = None):\n",
    "        self.val = val\n",
    "        self.left = left\n",
    "        self.right = right\n",
    "\n",
    "from typing import List\n",
    "def bt_path(root: TreeNode) -> List[List[int]]:\n",
    "# TODO\n",
    "  paths = [] # create a list\n",
    "\n",
    "  if root.left is not None: # if not base case - explore left path\n",
    "    paths.extend(list(map(lambda l: l + [root.val], bt_path(root.left))))   # add new root to banch of pathes from left\n",
    "  else:  \n",
    "    paths.append([root.val]) # if leaf create new path\n",
    "    return paths\n",
    "\n",
    "  if root.right is not None: # if not base case - explore right path\n",
    "    paths.extend(list(map(lambda l: l + [root.val], bt_path(root.right))))  # add new root to banch of pathes from right\n",
    "  else: paths.append([root.val]) # if leaf create new path\n",
    "\n",
    "  return paths #return banch of pathes"
   ]
  },
  {
   "cell_type": "code",
   "execution_count": 50,
   "metadata": {},
   "outputs": [],
   "source": [
    "# Considering that input stored in breadth-first order\n",
    "# Considering that tree is a complete binary tree\n",
    "# 2i + 1 (for the left child) and 2i + 2  (for the right child)\n",
    "# (i-1)/2 (for the parent)\n",
    "import random\n",
    "def insert_level_order(list, root, i, n):\n",
    "    if i < n:\n",
    "        temp = TreeNode(list[i])\n",
    "        root = temp\n",
    "        root.left = insert_level_order(list, root.left, 2 * i + 1, n)        # Left child\n",
    "        root.right = insert_level_order(list, root.right, 2 * i + 2, n)      # Right child\n",
    "    return root\n",
    "\n",
    "def generate_random_tree(num_nodes, value_range):\n",
    "    values = [random.randint(*value_range) for _ in range(num_nodes)]\n",
    "    return insert_level_order(values, None, 0, len(values))"
   ]
  },
  {
   "cell_type": "code",
   "execution_count": 13,
   "metadata": {},
   "outputs": [
    {
     "name": "stdout",
     "output_type": "stream",
     "text": [
      "[[3, 2, 1], [5, 2, 1], [6, 2, 1], [7, 2, 1]]\n"
     ]
    }
   ],
   "source": [
    "\n",
    "root = TreeNode(1)\n",
    "root.left = TreeNode(2)\n",
    "root.right = TreeNode(2)\n",
    "root.left.left = TreeNode(3)\n",
    "root.left.right = TreeNode(5)\n",
    "root.right.left = TreeNode(6)\n",
    "root.right.right = TreeNode(7)\n",
    "\n",
    "paths = bt_path(root)\n",
    "print(paths)\n",
    "\n"
   ]
  },
  {
   "cell_type": "markdown",
   "metadata": {},
   "source": [
    "<details>\n",
    "  <summary>Question 3</summary>\n",
    "\n",
    "  # Question Three: Missing Number in Range\n",
    " \n",
    "  You are given a list containing `n` integers in the range `[0, n]`. Return a list of numbers that are missing from the range `[0, n]` of the array. If there is no missing number, return -1. Note, all the integers in the list may not be unique.\n",
    "  \n",
    "  ## Examples\n",
    "\n",
    "  ### Example 1\n",
    "\n",
    "  Input: `lst = [0, 2]`\n",
    "\n",
    "  Output: [1]\n",
    "\n",
    "  ### Example 2\n",
    "\n",
    "  Input: `lst = [5, 0, 1]`\n",
    "\n",
    "  Output: [2, 3, 4]\n",
    "\n",
    "  ### Example 3\n",
    "\n",
    "  Input: `lst = [6, 8, 2, 3, 5, 7, 0, 1, 10]`\n",
    "\n",
    "  Output: [4, 9]\n",
    "\n",
    "</details>\n",
    "\n",
    "#### Starter Code for Question 3\n"
   ]
  },
  {
   "cell_type": "code",
   "execution_count": null,
   "metadata": {},
   "outputs": [],
   "source": [
    "def missing_num(nums: List) -> int:\n",
    "  # TODO"
   ]
  },
  {
   "cell_type": "markdown",
   "metadata": {},
   "source": [
    "\n",
    "## Part 2:\n",
    "\n",
    "-   Paraphrase the problem in your own words\n"
   ]
  },
  {
   "cell_type": "code",
   "execution_count": null,
   "metadata": {},
   "outputs": [],
   "source": [
    "# Create function that receive TreeNode type object \"root\" recursively go through all possible paths from root to leafs, returning List of nested Lists with values in sequence, \n",
    "# where each nested List represent one path."
   ]
  },
  {
   "cell_type": "markdown",
   "metadata": {},
   "source": [
    "\n",
    "-   In the .md file containing your problem, there are examples that illustrate how the code should work. Create 2 new examples that demonstrate you understand the problem.\n"
   ]
  },
  {
   "cell_type": "code",
   "execution_count": 57,
   "metadata": {},
   "outputs": [
    {
     "name": "stdout",
     "output_type": "stream",
     "text": [
      "[[9, 1, 8, 1, 8, 1, 8, 10], [5, 1, 8, 1, 8, 1, 8, 10], [10, 3, 8, 1, 8, 1, 8, 10], [3, 3, 8, 1, 8, 1, 8, 10], [3, 3, 10, 1, 8, 1, 8, 10], [5, 3, 10, 1, 8, 1, 8, 10], [4, 3, 10, 1, 8, 1, 8, 10], [3, 3, 10, 1, 8, 1, 8, 10], [9, 8, 10, 8, 8, 1, 8, 10], [9, 8, 10, 8, 8, 1, 8, 10], [9, 4, 10, 8, 8, 1, 8, 10], [9, 4, 10, 8, 8, 1, 8, 10], [10, 6, 1, 8, 8, 1, 8, 10], [6, 6, 1, 8, 8, 1, 8, 10], [8, 9, 1, 8, 8, 1, 8, 10], [4, 9, 1, 8, 8, 1, 8, 10], [9, 7, 1, 8, 6, 1, 8, 10], [6, 7, 1, 8, 6, 1, 8, 10], [8, 6, 1, 8, 6, 1, 8, 10], [6, 6, 1, 8, 6, 1, 8, 10], [4, 9, 10, 8, 6, 1, 8, 10], [2, 9, 10, 8, 6, 1, 8, 10], [1, 8, 10, 8, 6, 1, 8, 10], [8, 10, 8, 6, 1, 8, 10], [4, 6, 2, 6, 1, 8, 10], [5, 6, 2, 6, 1, 8, 10], [3, 2, 2, 6, 1, 8, 10], [1, 2, 2, 6, 1, 8, 10], [7, 7, 10, 5, 6, 8, 10], [5, 7, 10, 5, 6, 8, 10], [7, 7, 10, 5, 6, 8, 10], [4, 7, 10, 5, 6, 8, 10], [2, 3, 8, 5, 6, 8, 10], [5, 3, 8, 5, 6, 8, 10], [2, 5, 8, 5, 6, 8, 10], [9, 5, 8, 5, 6, 8, 10], [9, 3, 4, 4, 6, 8, 10], [7, 3, 4, 4, 6, 8, 10], [5, 1, 4, 4, 6, 8, 10], [1, 1, 4, 4, 6, 8, 10], [6, 2, 5, 4, 6, 8, 10], [6, 2, 5, 4, 6, 8, 10], [1, 8, 5, 4, 6, 8, 10], [7, 8, 5, 4, 6, 8, 10], [7, 4, 4, 3, 8, 9, 10], [4, 4, 4, 3, 8, 9, 10], [5, 6, 4, 3, 8, 9, 10], [3, 6, 4, 3, 8, 9, 10], [9, 3, 3, 3, 8, 9, 10], [6, 3, 3, 3, 8, 9, 10], [8, 1, 3, 3, 8, 9, 10], [10, 1, 3, 3, 8, 9, 10], [2, 7, 2, 6, 8, 9, 10], [2, 7, 2, 6, 8, 9, 10], [1, 5, 2, 6, 8, 9, 10], [1, 5, 2, 6, 8, 9, 10], [1, 1, 4, 6, 8, 9, 10], [3, 1, 4, 6, 8, 9, 10], [3, 10, 4, 6, 8, 9, 10], [7, 10, 4, 6, 8, 9, 10], [4, 3, 2, 2, 8, 9, 10], [10, 3, 2, 2, 8, 9, 10], [1, 7, 2, 2, 8, 9, 10], [6, 7, 2, 2, 8, 9, 10], [3, 6, 8, 2, 8, 9, 10], [1, 6, 8, 2, 8, 9, 10], [10, 8, 8, 2, 8, 9, 10], [2, 8, 8, 2, 8, 9, 10], [7, 2, 4, 9, 8, 9, 10], [5, 2, 4, 9, 8, 9, 10], [7, 4, 4, 9, 8, 9, 10], [3, 4, 4, 9, 8, 9, 10], [9, 2, 7, 9, 8, 9, 10], [7, 2, 7, 9, 8, 9, 10], [4, 7, 7, 9, 8, 9, 10], [3, 7, 7, 9, 8, 9, 10]]\n",
      "[[8, 9, 10], [5, 9, 10], [3, 7, 10], [9, 7, 10]]\n"
     ]
    }
   ],
   "source": [
    "# Your answer here\n",
    "root = generate_random_tree(150, (1,10)) ## Number of node, range \n",
    "print( bt_path(root))\n",
    "\n",
    "lst=[10,9,7,8,5,3,9]\n",
    "root2 = insert_level_order(lst, None, 0, len(lst))\n",
    "print( bt_path(root2))"
   ]
  },
  {
   "cell_type": "markdown",
   "metadata": {},
   "source": [
    "\n",
    "-   Code the solution to your assigned problem in Python (code chunk). Try to find the best time and space complexity solution!\n"
   ]
  },
  {
   "cell_type": "code",
   "execution_count": 55,
   "metadata": {},
   "outputs": [],
   "source": [
    "# Your answer here\n",
    "def bt_path(root: TreeNode) -> List[List[int]]:\n",
    "  paths = [] # create a list\n",
    "\n",
    "  if root.left is not None: # if not base case - explore left path\n",
    "    paths.extend(list(map(lambda l: l + [root.val], bt_path(root.left))))   # add new root to banch of pathes from left\n",
    "  else:  \n",
    "    paths.append([root.val]) # if leaf create new path\n",
    "    return paths\n",
    "\n",
    "  if root.right is not None: # if not base case - explore right path\n",
    "    paths.extend(list(map(lambda l: l + [root.val], bt_path(root.right))))  # add new root to banch of pathes from right\n",
    "  else: paths.append([root.val]) # if leaf create new path\n",
    "\n",
    "  return paths #return banch of pathes"
   ]
  },
  {
   "cell_type": "markdown",
   "metadata": {},
   "source": [
    "\n",
    "-   Explain why your solution works\n"
   ]
  },
  {
   "cell_type": "code",
   "execution_count": null,
   "metadata": {},
   "outputs": [],
   "source": [
    "# Your answer here\n",
    "# My solution pass recursively through all potential paths, starting with the top node and go down (for left and right nodes) to each leaf. \n",
    "# Once reached a leaf it create a new \"path\".\n",
    "# All paths, returned to previous function call in the stack, adding upper node to their lists and return it upper and upper recursively. \n",
    "# "
   ]
  },
  {
   "cell_type": "markdown",
   "metadata": {},
   "source": [
    "\n",
    "-   Explain the problem’s and space complexity\n"
   ]
  },
  {
   "cell_type": "code",
   "execution_count": null,
   "metadata": {},
   "outputs": [],
   "source": [
    "# Your answer here\n",
    "# Time complexity for my solution is O(n) - since each node visited once\n",
    "# Space complexity is O(n*Log(n)) - since each leaf stored once. Node one stap up stored max 2 times and so on. \n",
    "#   Only top node stored amount of times equel to number of leafs. \n",
    "#   In limit skewed case (tree looks like a pipe) each node will be stored only once and for this particular case, space complexity will become even O(n)."
   ]
  },
  {
   "cell_type": "markdown",
   "metadata": {},
   "source": [
    "\n",
    "-   Explain the thinking to an alternative solution (no coding required, but a classmate reading this should be able to code it up based off your text)\n"
   ]
  },
  {
   "cell_type": "code",
   "execution_count": null,
   "metadata": {},
   "outputs": [],
   "source": [
    "# Your answer here\n",
    "# Alternatively this task can be solved without extending lists with new nodes on each step back. \n",
    "# Instead of this it can be created \"global\" all_paths: List[List[int]], that will be fulfilled with steps while researching the tree. \n"
   ]
  },
  {
   "cell_type": "markdown",
   "metadata": {},
   "source": [
    "## Evaluation Criteria\n",
    "\n",
    "-   Problem is accurately stated\n",
    "\n",
    "-   Two examples are correct and easily understandable\n",
    "\n",
    "-   Correctness, time, and space complexity of the coding solution\n",
    "\n",
    "-   Clarity in explaining why the solution works, its time and space complexity\n",
    "\n",
    "-   Clarity in the proposal to the alternative solution"
   ]
  },
  {
   "cell_type": "markdown",
   "metadata": {},
   "source": [
    "## Submission Information\n",
    "\n",
    "🚨 **Please review our [Assignment Submission Guide](https://github.com/UofT-DSI/onboarding/blob/main/onboarding_documents/submissions.md)** 🚨 for detailed instructions on how to format, branch, and submit your work. Following these guidelines is crucial for your submissions to be evaluated correctly.\n",
    "\n",
    "### Submission Parameters:\n",
    "* Submission Due Date: `HH:MM AM/PM - DD/MM/YYYY`\n",
    "* The branch name for your repo should be: `assignment-1`\n",
    "* What to submit for this assignment:\n",
    "    * This Jupyter Notebook (assignment_1.ipynb) should be populated and should be the only change in your pull request.\n",
    "* What the pull request link should look like for this assignment: `https://github.com/<your_github_username>/algorithms_and_data_structures/pull/<pr_id>`\n",
    "    * Open a private window in your browser. Copy and paste the link to your pull request into the address bar. Make sure you can see your pull request properly. This helps the technical facilitator and learning support staff review your submission easily.\n",
    "\n",
    "Checklist:\n",
    "- [ ] Create a branch called `assignment-1`.\n",
    "- [ ] Ensure that the repository is public.\n",
    "- [ ] Review [the PR description guidelines](https://github.com/UofT-DSI/onboarding/blob/main/onboarding_documents/submissions.md#guidelines-for-pull-request-descriptions) and adhere to them.\n",
    "- [ ] Verify that the link is accessible in a private browser window.\n",
    "\n",
    "If you encounter any difficulties or have questions, please don't hesitate to reach out to our team via our Slack at `#cohort-3-help`. Our Technical Facilitators and Learning Support staff are here to help you navigate any challenges."
   ]
  }
 ],
 "metadata": {
  "kernelspec": {
   "display_name": "Python 3",
   "language": "python",
   "name": "python3"
  },
  "language_info": {
   "codemirror_mode": {
    "name": "ipython",
    "version": 3
   },
   "file_extension": ".py",
   "mimetype": "text/x-python",
   "name": "python",
   "nbconvert_exporter": "python",
   "pygments_lexer": "ipython3",
   "version": "3.9.15"
  }
 },
 "nbformat": 4,
 "nbformat_minor": 2
}
