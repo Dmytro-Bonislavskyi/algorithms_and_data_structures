{
 "cells": [
  {
   "cell_type": "markdown",
   "metadata": {},
   "source": [
    "# Practice Interview\n",
    "\n",
    "## Objective\n",
    "\n",
    "_*The partner assignment aims to provide participants with the opportunity to practice coding in an interview context. You will analyze your partner's Assignment 1. Moreover, code reviews are common practice in a software development team. This assignment should give you a taste of the code review process.*_\n",
    "\n",
    "## Group Size\n",
    "\n",
    "Each group should have 2 people. You will be assigned a partner\n",
    "\n",
    "## Part 1:\n",
    "\n",
    "You and your partner must share each other's Assignment 1 submission."
   ]
  },
  {
   "cell_type": "markdown",
   "metadata": {},
   "source": [
    "\n",
    "## Part 2:\n",
    "\n",
    "Create a Jupyter Notebook, create 6 of the following headings, and complete the following for your partner's assignment 1:\n",
    "\n",
    "-   Paraphrase the problem in your own words.\n"
   ]
  },
  {
   "cell_type": "code",
   "execution_count": null,
   "metadata": {},
   "outputs": [],
   "source": [
    "# Your answer here\n",
    "## Partner - Shiyam Hoda. Question N3\n",
    "## https://github.com/shiyamhoda/algorithms_and_data_structures/blob/d845ee4fda541f0a3f8e7be240c375af74df2d63/02_activities/assignments/assignment_1.ipynb\n",
    "\n",
    "# Task: Create a function that receive a list of integers as a parameter 'nums'. Where integers must be in range [0,n].\n",
    "#       Return list of numbers(?integers), that contains numbers from range[0,n], missed in List 'nums'"
   ]
  },
  {
   "cell_type": "markdown",
   "metadata": {},
   "source": [
    "\n",
    "-   Create 1 new example that demonstrates you understand the problem. Trace/walkthrough 1 example that your partner made and explain it.\n"
   ]
  },
  {
   "cell_type": "code",
   "execution_count": 6,
   "metadata": {},
   "outputs": [],
   "source": [
    "## new example\n",
    "lst_ex =[0,2,2,3,5] # expected return [0,1,4]\n",
    "\n",
    "## Example 1: missing_num([0, 2])  # Output: [1]\n",
    "## Trace 1 example:\n",
    "# missing_num([0,2]);\n",
    "# n = 2;\n",
    "# # missing_num_helper(0, []);\n",
    "# 0 > 2 => False;\n",
    "# 0 not in [0,2] => False;\n",
    "\n",
    "# missing_num_helper(1, []);\n",
    "# 1 > 2 => False;\n",
    "# 1 not in [0,2] => True;\n",
    "# missing.append(1);\n",
    "\n",
    "# missing_num_helper(2, [1]);\n",
    "# 2 > 2 => False;\n",
    "# 2 not in [0,2] => False;\n",
    "\n",
    "# missing_num_helper(3, [1]);\n",
    "# 3 > 2 => True;\n",
    "# return [1];"
   ]
  },
  {
   "cell_type": "markdown",
   "metadata": {},
   "source": [
    "\n",
    "-   Copy the solution your partner wrote. \n"
   ]
  },
  {
   "cell_type": "code",
   "execution_count": null,
   "metadata": {},
   "outputs": [],
   "source": [
    "from typing import List\n",
    "\n",
    "def missing_num(nums: List[int]) -> List[int]:\n",
    "    n = max(nums)\n",
    "    \n",
    "    def missing_num_helper(current: int, missing: List[int]) -> List[int]:\n",
    "        if current > n:\n",
    "            return missing if missing else [-1]\n",
    "        \n",
    "        if current not in nums:\n",
    "            missing.append(current)\n",
    "        \n",
    "        return missing_num_helper(current + 1, missing)\n",
    "    \n",
    "    return missing_num_helper(0, [])"
   ]
  },
  {
   "cell_type": "markdown",
   "metadata": {},
   "source": [
    "\n",
    "-   Explain why their solution works in your own words.\n"
   ]
  },
  {
   "cell_type": "code",
   "execution_count": null,
   "metadata": {},
   "outputs": [],
   "source": [
    "# function missing_num() receive a list of numbers as parameter List[int] 'nums';\n",
    "# maximal number from the List 'nums' assigned to int 'n';\n",
    "# return statement from missing_num() lunch chain of recursive calls to helper function missing_num_helper();\n",
    "# function missing_num_helper() receive as parameters int 'current' and List[int] 'missing';\n",
    "# first condition 'current' > 'n', if True, stops recursive calls of missing_num_helper() and return list of missing numbers if not empty and '-1' if empty;\n",
    "# second condition 'current' not in 'nums', if True append current number to list of missing numbers;\n",
    "# if reached final return statement of missing_num_helper() it recursively calls it self passing int 'current' incremented by 1 and List[int] 'missing' fulfilled with collected missing numbers;"
   ]
  },
  {
   "cell_type": "markdown",
   "metadata": {},
   "source": [
    "\n",
    "-   Explain the problem’s time and space complexity in your own words.\n"
   ]
  },
  {
   "cell_type": "code",
   "execution_count": null,
   "metadata": {},
   "outputs": [],
   "source": [
    "# pass through each number in the list give us time complexity O(n);\n",
    "# also on each recursive call function perform membership check \"if current not in nums\" passin through all numbers in 'nums' \n",
    "# so total time complexity of solution is O(n**2)\n",
    "\n",
    "# space complexity O(n) since we store only given 'nums' which is O(n) and missed values which not greater then 'n'"
   ]
  },
  {
   "cell_type": "markdown",
   "metadata": {},
   "source": [
    "\n",
    "-   Critique your partner's solution, including explanation, and if there is anything that should be adjusted.\n"
   ]
  },
  {
   "cell_type": "code",
   "execution_count": null,
   "metadata": {},
   "outputs": [],
   "source": [
    "# Alternative solution provided by Shiyam in last part of assignment-1 utilize \"set\" data stracture, \n",
    "# which help make code more efficient from time complexity perspective as well as more \"beautiful\" :) "
   ]
  },
  {
   "cell_type": "markdown",
   "metadata": {},
   "source": [
    "\n",
    "## Part 3:\n",
    "\n",
    "Please write a 200 word reflection documenting your process from assignment 1, and your presentation and review experience with your partner at the bottom of the Jupyter Notebook under a new heading \"Reflection.\" Again, export this Notebook as pdf.\n"
   ]
  },
  {
   "cell_type": "markdown",
   "metadata": {},
   "source": [
    "### Reflection"
   ]
  },
  {
   "cell_type": "code",
   "execution_count": 11,
   "metadata": {},
   "outputs": [
    {
     "data": {
      "text/plain": [
       "205"
      ]
     },
     "execution_count": 11,
     "metadata": {},
     "output_type": "execute_result"
    }
   ],
   "source": [
    "# Your answer here\n",
    "text = \"\"\"\n",
    "The opportunity to work with a binary tree and recursion reminded me of my university days. And it confirmed once again that without constant practice, the skill is lost. \n",
    "Since in the task, the numbers are passed in the form of a List, and the provided function signature takes a \"tree\" as input. At first, I had to considerer that input List stored in breadth-first order\n",
    "and that tree is a complete binary tree. Then, to solve this problem, I came up with the idea of making a helper class that would pass more than one parameter (including a List that would store the current version of the paths). \n",
    "But I decided to opt for a more strict implementation - only a given function, no signature variability, no code outside the function (for example, no creating external objects to store search stages) as could be set in Codewars katas.\n",
    "Looking at the work of my partner on the second part of the assignment, it was interesting to see approaches that are similar to mine, but it was also useful to see a number of differences. \n",
    "Overall, the practice of peer reviews is an effective tool for both participants, which help improve both and establish communication.\n",
    "\"\"\"\n",
    "\n",
    "len(text.split())\n"
   ]
  },
  {
   "cell_type": "markdown",
   "metadata": {},
   "source": [
    "\n",
    "## Evaluation Criteria\n",
    "\n",
    "We are looking for the similar points as Assignment 1\n",
    "\n",
    "-   Problem is accurately stated\n",
    "\n",
    "-   New example is correct and easily understandable\n",
    "\n",
    "-   Correctness, time, and space complexity of the coding solution\n",
    "\n",
    "-   Clarity in explaining why the solution works, its time and space complexity\n",
    "\n",
    "-   Quality of critique of your partner's assignment, if necessary\n"
   ]
  },
  {
   "cell_type": "markdown",
   "metadata": {},
   "source": [
    "## Submission Information\n",
    "\n",
    "🚨 **Please review our [Assignment Submission Guide](https://github.com/UofT-DSI/onboarding/blob/main/onboarding_documents/submissions.md)** 🚨 for detailed instructions on how to format, branch, and submit your work. Following these guidelines is crucial for your submissions to be evaluated correctly.\n",
    "\n",
    "### Submission Parameters:\n",
    "* Submission Due Date: `HH:MM AM/PM - DD/MM/YYYY`\n",
    "* The branch name for your repo should be: `assignment-2`\n",
    "* What to submit for this assignment:\n",
    "    * This Jupyter Notebook (assignment_2.ipynb) should be populated and should be the only change in your pull request.\n",
    "* What the pull request link should look like for this assignment: `https://github.com/<your_github_username>/algorithms_and_data_structures/pull/<pr_id>`\n",
    "    * Open a private window in your browser. Copy and paste the link to your pull request into the address bar. Make sure you can see your pull request properly. This helps the technical facilitator and learning support staff review your submission easily.\n",
    "\n",
    "Checklist:\n",
    "- [ ] Created a branch with the correct naming convention.\n",
    "- [ ] Ensured that the repository is public.\n",
    "- [ ] Reviewed the PR description guidelines and adhered to them.\n",
    "- [ ] Verify that the link is accessible in a private browser window.\n",
    "\n",
    "If you encounter any difficulties or have questions, please don't hesitate to reach out to our team via our Slack at `#cohort-3-help`. Our Technical Facilitators and Learning Support staff are here to help you navigate any challenges.\n"
   ]
  }
 ],
 "metadata": {
  "kernelspec": {
   "display_name": "dsi_participant",
   "language": "python",
   "name": "python3"
  },
  "language_info": {
   "codemirror_mode": {
    "name": "ipython",
    "version": 3
   },
   "file_extension": ".py",
   "mimetype": "text/x-python",
   "name": "python",
   "nbconvert_exporter": "python",
   "pygments_lexer": "ipython3",
   "version": "3.9.15"
  }
 },
 "nbformat": 4,
 "nbformat_minor": 2
}
